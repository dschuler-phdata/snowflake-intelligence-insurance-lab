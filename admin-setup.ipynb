{
 "metadata": {
  "kernelspec": {
   "display_name": "Streamlit Notebook",
   "name": "streamlit"
  },
  "lastEditStatus": {
   "notebookId": "h474aa2bxyjygajqdfp2",
   "authorId": "3363306895615",
   "authorName": "USER",
   "authorEmail": "",
   "sessionId": "91f47c75-00cf-4cf7-92b6-f96fe49eef71",
   "lastEditTime": 1761868124086
  }
 },
 "nbformat_minor": 5,
 "nbformat": 4,
 "cells": [
  {
   "cell_type": "code",
   "id": "3775908f-ca36-4846-8f38-5adca39217f2",
   "metadata": {
    "language": "python",
    "name": "cell1"
   },
   "source": "import snowflake.snowpark as snowpark\nfrom snowflake.snowpark.context import get_active_session\n\n# --- Configuration ---\nNUM_USERS = 1  # Set to 1 for testing\nUSER_PREFIX = \"user\"\nUSER_PASSWORD_PREFIX = \"SLMholuser\"\n# ---------------------\n\n# Get active session\nsession = get_active_session()\n\nprint(\"--- Starting Full Lab Setup ---\")\n\ntry:\n    # Set context to ACCOUNTADMIN for the entire setup\n    session.use_role(\"ACCOUNTADMIN\")\n    session.use_database(\"DATAOPS_EVENT_PROD\")\n    session.use_schema(\"PUBLIC\")\n    print(\"Initial context set to ACCOUNTADMIN, DATAOPS_EVENT_PROD.PUBLIC.\")\n\n    # ======================================================================\n    # Part 1: Create Shared Resources (Integrations & Parent Role)\n    # ======================================================================\n\n    session.sql(\"CREATE DATABASE IF NOT EXISTS snowflake_intelligence\").collect()\n    session.sql(\"CREATE SCHEMA IF NOT EXISTS snowflake_intelligence.agents\").collect()\n    \n    print(\"\\n--- 1. Creating PARENT role for shared permissions ---\")\n    session.sql(\"CREATE ROLE IF NOT EXISTS LAB_PARENT_ROLE\").collect()\n    session.sql(\"GRANT ROLE LAB_PARENT_ROLE TO ROLE SYSADMIN\").collect()\n    print(\"✅ Created LAB_PARENT_ROLE.\")\n\n    print(\"\\n--- 2. Creating Shared Integrations ---\")\n    session.sql(\"\"\"\n    CREATE OR REPLACE NETWORK RULE Snowflake_intelligence_WebAccessRule\n      MODE = EGRESS\n      TYPE = HOST_PORT\n      VALUE_LIST = ('0.0.0.0:80', '0.0.0.0:443')\n    \"\"\").collect()\n\n    session.sql(\"\"\"\n    CREATE OR REPLACE EXTERNAL ACCESS INTEGRATION Snowflake_intelligence_ExternalAccess_Integration\n      ALLOWED_NETWORK_RULES = (Snowflake_intelligence_WebAccessRule)\n      ENABLED = true\n    \"\"\").collect()\n    print(\"✅ Network Rule and External Access Integration created.\")\n\n    print(\"\\n--- 3. Granting Shared Permissions to PARENT Role ---\")\n    session.sql(\"GRANT USAGE ON INTEGRATION Snowflake_intelligence_ExternalAccess_Integration TO ROLE LAB_PARENT_ROLE\").collect()\n    session.sql(\"GRANT DATABASE ROLE SNOWFLAKE.PYPI_REPOSITORY_USER TO ROLE LAB_PARENT_ROLE\").collect()\n    print(\"✅ Shared integration and PyPI permissions granted to LAB_PARENT_ROLE.\")\n\n    # ======================================================================\n    # Part 2: Create Individual User Environments\n    # ======================================================================\n    \n    print(f\"\\n--- Starting provisioning loop for {NUM_USERS} user(s) ---\")\n\n    for i in range(NUM_USERS):\n        # Define all user-specific names\n        username = f\"{USER_PREFIX}{i}\"\n        password = f\"{USER_PASSWORD_PREFIX}{i}\"\n        user_role_name = f\"ATTENDEE_ROLE_USER{i}\"\n        user_db_name = f\"CORTEX_LAB_DB_USER{i}\"\n        user_schema_name = f\"RISK_DATA_USER{i}\"\n        user_wh_name = f\"LAB_WH_USER{i}\"\n        \n        print(f\"\\nProcessing {username}...\")\n        \n        # 0. Ensure we are ACCOUNTADMIN\n        session.use_role(\"ACCOUNTADMIN\")\n        \n        # 1. Create Personal Role\n        session.sql(f'CREATE ROLE IF NOT EXISTS \"{user_role_name}\"').collect()\n        \n        # 2. Create User\n        print(f\"Creating user {username}, with role: {user_role_name}\")\n        session.sql(f\"\"\"\n            CREATE USER IF NOT EXISTS {username} \n            PASSWORD='{password}' \n            DEFAULT_ROLE=\"{user_role_name}\" \n            MUST_CHANGE_PASSWORD=FALSE\n        \"\"\").collect()\n\n        print(f\"Granting user: {username} role: {user_role_name}\")\n        # 3. Grant Role to User and Parent Role to User's Role\n        session.sql(f'GRANT ROLE \"{user_role_name}\" TO USER {username}').collect()\n        print(f\"Grainting user: {username} role: LAB_PARENT_ROLE \")\n        session.sql(f'GRANT ROLE LAB_PARENT_ROLE TO ROLE \"{user_role_name}\"').collect()\n        \n        # 4. Create Personal Warehouse\n        print(f\"Creating warehouse: {user_wh_name}\")\n        session.sql(f\"\"\"\n            CREATE OR REPLACE WAREHOUSE \"{user_wh_name}\" \n            WAREHOUSE_SIZE = XSMALL \n            AUTO_SUSPEND = 60\n        \"\"\").collect()\n        print(\"after warehouse creation\")\n        \n        # 5. Create Personal Database and Schema\n        print(f\"Creating db: {user_db_name}\")\n        session.sql(f'CREATE OR REPLACE DATABASE \"{user_db_name}\" DATA_RETENTION_TIME_IN_DAYS = 0').collect()\n        session.use_database(f'\"{user_db_name}\"')\n        print(f\"Creating schema: {user_schema_name}\")\n        session.sql(f'CREATE OR REPLACE SCHEMA \"{user_schema_name}\"').collect()\n        \n        # Grant OWNERSHIP privileges\n        print(\"Granting ALL PRIVILEGES to the new role...\")\n        print(f\"details: {user_wh_name}, {user_role_name}\")\n        session.sql(f'GRANT OWNERSHIP ON WAREHOUSE \"{user_wh_name}\" TO ROLE \"{user_role_name}\"').collect()\n        session.sql(f'GRANT OWNERSHIP ON DATABASE \"{user_db_name}\" TO ROLE \"{user_role_name}\"').collect()\n        session.sql(f'GRANT OWNERSHIP ON SCHEMA \"{user_db_name}\".\"{user_schema_name}\" TO ROLE \"{user_role_name}\"').collect()\n        print(\"Granting Snowflake Intelligence access\")\n        session.sql(f'GRANT USAGE ON DATABASE SNOWFLAKE_INTELLIGENCE TO ROLE \"{user_role_name}\"').collect()\n        session.sql(f'GRANT USAGE ON SCHEMA SNOWFLAKE_INTELLIGENCE.AGENTS TO ROLE \"{user_role_name}\"').collect()\n        session.sql(f'GRANT CREATE AGENT ON SCHEMA SNOWFLAKE_INTELLIGENCE.AGENTS TO ROLE \"{user_role_name}\"').collect()\n        \n        print(f\"✅ Successfully created user, role, DB, schema, and WH for {username}.\")\n\n    # Reset session context to the original one\n    session.use_database(\"DATAOPS_EVENT_PROD\")\n    session.use_schema(\"PUBLIC\")\n    \n    final_status = f\"🎉 FULL LAB SETUP COMPLETE for {NUM_USERS} user(s).\"\n    print(f\"\\n--- {final_status} ---\")\n\nexcept Exception as e:\n    print(f\"\\n❌ ERROR during setup: {e}\")\n    final_status = f\"❌ ERROR: {e}\"\n\n# Return the final status to the notebook cell output\nfinal_status",
   "execution_count": null,
   "outputs": []
  },
  {
   "cell_type": "code",
   "id": "cef2809a-e71b-49fa-a9df-4d48011ac799",
   "metadata": {
    "language": "python",
    "name": "cell2"
   },
   "outputs": [],
   "source": "import snowflake.snowpark as snowpark\nfrom snowflake.snowpark.context import get_active_session\n\nsession = get_active_session()\n\nprint(\"--- 1. Checking for 'MANAGE GRANTS' on ACCOUNTADMIN ---\")\nsession.use_role(\"ACCOUNTADMIN\")\nsession.use_warehouse(\"DEFAULT_WH\")\n\ntry:\n    # 1. Show privileges granted TO the ACCOUNTADMIN role.\n    session.sql(\"SHOW GRANTS TO ROLE ACCOUNTADMIN\").collect()\n    \n    # 2. Query the output of the SHOW command.\n    sql = \"\"\"\n    SELECT \"privilege\", \"granted_on\", \"name\", \"grantee_name\"\n    FROM TABLE(RESULT_SCAN(LAST_QUERY_ID()))\n    WHERE \"privilege\" = 'MANAGE GRANTS' AND \"granted_on\" = 'ACCOUNT';\n    \"\"\"\n    \n    df = session.sql(sql).to_pandas()\n    \n    if df.empty:\n        print(\"\\n❌ VALIDATION FAILED:\")\n        print(\"Your ACCOUNTADMIN role does NOT have the 'MANAGE GRANTS' privilege.\")\n        print(\"This is likely why you're getting 'insufficient privileges' on GRANT commands.\")\n    else:\n        print(\"\\n✅ VALIDATION PASSED:\")\n        print(\"Your ACCOUNTADMIN role HAS 'MANAGE GRANTS' privilege.\")\n        print(df)\n\nexcept Exception as e:\n    print(f\"Error checking grants: {e}\")\n",
   "execution_count": null
  },
  {
   "cell_type": "code",
   "id": "001cd43f-c3d1-4cd6-8258-aabab88a03ee",
   "metadata": {
    "language": "python",
    "name": "cell3"
   },
   "outputs": [],
   "source": "import snowflake.snowpark as snowpark\nfrom snowflake.snowpark.context import get_active_session\n\nsession = get_active_session()\n\nprint(\"\\n--- 2. Checking for 'CREATE' privileges on ACCOUNTADMIN ---\")\nsession.use_role(\"ACCOUNTADMIN\")\n\ntry:\n    # This command lists ALL privileges the role has\n    session.sql(\"SHOW GRANTS OF ROLE ACCOUNTADMIN\").collect()\n    \n    # This query scans the results of the command above\n    sql = \"\"\"\n    SELECT \"privilege\", \"granted_on\"\n    FROM TABLE(RESULT_SCAN(LAST_QUERY_ID())) \n    WHERE \"privilege\" IN (\n        'CREATE DATABASE', \n        'CREATE SCHEMA', \n        'CREATE WAREHOUSE', \n        'CREATE ROLE', \n        'CREATE USER'\n    )\n    AND \"granted_on\" = 'ACCOUNT';\n    \"\"\"\n    \n    df = session.sql(sql).to_pandas()\n    \n    print(f\"\\nFound {len(df)} 'CREATE' privileges:\")\n    print(df)\n    \n    if len(df) < 5:\n        print(\"\\nWARNING: Your ACCOUNTADMIN is also missing some 'CREATE' privileges.\")\n    else:\n        print(\"\\n✅ This confirms your role can create objects.\")\n\nexcept Exception as e:\n    print(f\"Error checking grants: {e}\")",
   "execution_count": null
  }
 ]
}