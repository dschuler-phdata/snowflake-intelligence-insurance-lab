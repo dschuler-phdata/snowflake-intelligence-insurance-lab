{
 "cells": [
  {
   "cell_type": "markdown",
   "id": "8d50cbf4-0c8d-4950-86cb-114990437ac9",
   "metadata": {
    "collapsed": false,
    "name": "cell2"
   },
   "source": [
    "# Snowflake Intelligence Hands-On Lab\n",
    "\n",
    "In this session, you will learn how to:\n",
    "- Perform semantic modeling to enable text-to-sql conversion via Cortex Analyst\n",
    "- Build custom tools like web search\n",
    "- Create Cortex Agents that can use Cortex Analyst and custom tools\n",
    "- Use Snowflake Intelligence as a UI layer for Cortex Agents\n",
    "- Investigate Snowflake's built in observability for the agent"
   ]
  },
  {
   "cell_type": "markdown",
   "id": "ee9f318c-cb11-467b-8713-2bb6ac17049f",
   "metadata": {
    "collapsed": false,
    "name": "cell4"
   },
   "source": [
    "## Section 1: Data prep\n",
    "\n",
    "In this section, we'll configure the necessary Snowflake objects and data to perform the rest of the hands on lab.\n",
    "\n",
    "For our structured data, we'll use a simple star schema, mocking insurance data. Our model will be composed of the following tables:\n",
    "- fact_claims: our event table tracking claims that have taken place\n",
    "- dim_policies: contains our information about the various policies issued\n",
    "- dim_businesses: contains information about the various businesses that are insured"
   ]
  },
  {
   "cell_type": "markdown",
   "id": "bc7ff6ce-2c32-44a1-b6ac-63bd5cd1ccac",
   "metadata": {
    "collapsed": false,
    "name": "cell7"
   },
   "source": [
    "### 1.1 - Create tables"
   ]
  },
  {
   "cell_type": "code",
   "execution_count": null,
   "id": "94d2c454-78d0-4689-ab03-62b26c6854e7",
   "metadata": {
    "language": "sql",
    "name": "cell1"
   },
   "outputs": [],
   "source": [
    "CREATE OR REPLACE TABLE DIM_BUSINESS (\n",
    "    BUSINESS_KEY INT PRIMARY KEY,\n",
    "    BUSINESS_NAME VARCHAR(255),\n",
    "    BUSINESS_CITY VARCHAR(100),\n",
    "    BUSINESS_STATE VARCHAR(2),\n",
    "    NAICS_CODE VARCHAR(10),\n",
    "    INDUSTRY_SEGMENT VARCHAR(100),\n",
    "    ASSET_VALUE_MILLIONS NUMERIC(10, 2)\n",
    ");\n",
    "\n",
    "CREATE OR REPLACE TABLE DIM_POLICY (\n",
    "    POLICY_KEY INT PRIMARY KEY,\n",
    "    BUSINESS_KEY INT REFERENCES DIM_BUSINESS (BUSINESS_KEY),\n",
    "    POLICY_ID VARCHAR(50),\n",
    "    POLICY_TYPE VARCHAR(50),\n",
    "    EFFECTIVE_DATE DATE,\n",
    "    EXPIRATION_DATE DATE,\n",
    "    POLICY_STATUS VARCHAR(20), \n",
    "    ANNUAL_PREMIUM_USD NUMERIC(12, 2),\n",
    "    PREMIUM_EARNED_USD NUMERIC(12, 2)\n",
    ");\n",
    "\n",
    "CREATE OR REPLACE TABLE FACT_CLAIMS (\n",
    "    POLICY_KEY INT REFERENCES DIM_POLICY (POLICY_KEY),\n",
    "    BUSINESS_KEY INT REFERENCES DIM_BUSINESS (BUSINESS_KEY),\n",
    "    CLAIM_ID VARCHAR(50),\n",
    "    CLAIM_DATE DATE,\n",
    "    LOSS_TYPE VARCHAR(100),\n",
    "    REPORTED_LAG_DAYS INT,\n",
    "    INCURRED_AMOUNT_USD NUMERIC(12, 2),\n",
    "    IS_CATASTROPHE BOOLEAN,\n",
    "    CLAIM_STATUS VARCHAR(20)\n",
    ");"
   ]
  },
  {
   "cell_type": "markdown",
   "id": "7519bf3f-513d-4a78-89aa-bf54b39dcafc",
   "metadata": {
    "collapsed": false,
    "name": "cell8"
   },
   "source": [
    "### 1.2 - Insert data"
   ]
  },
  {
   "cell_type": "code",
   "execution_count": null,
   "id": "f2b7435b-0ec4-49c1-989d-064e941d4c17",
   "metadata": {
    "codeCollapsed": false,
    "language": "sql",
    "name": "cell5"
   },
   "outputs": [],
   "source": [
    "-- Populate DIM_BUSINESS (Local Cincinnati Focus)\n",
    "INSERT INTO DIM_BUSINESS (BUSINESS_KEY, BUSINESS_NAME, BUSINESS_CITY, BUSINESS_STATE, NAICS_CODE, INDUSTRY_SEGMENT, ASSET_VALUE_MILLIONS)\n",
    "VALUES\n",
    "(1, 'Deeper Roots Coffee', 'Cincinnati', 'OH', '722515', 'Restaurant & Hospitality', 2.50),\n",
    "(2, 'The Eagle OTR', 'Cincinnati', 'OH', '722511', 'Restaurant & Hospitality', 4.10),\n",
    "(3, 'Rhinegeist Brewery', 'Cincinnati', 'OH', '312120', 'Beverage Manufacturing', 45.00),\n",
    "(4, 'Cincinnati Zoo & Botanical Garden', 'Cincinnati', 'OH', '712130', 'Arts, Entertainment', 120.00),\n",
    "(5, 'Local Food Truck Corp.', 'Cincinnati', 'OH', '722330', 'Mobile Food Services', 0.85),\n",
    "(6, 'Queen City T-Shirt Printing', 'Cincinnati', 'OH', '323113', 'Small-Scale Manufacturing', 3.20),\n",
    "(7, 'The Lytle Park Hotel', 'Cincinnati', 'OH', '721110', 'Hospitality', 65.00),\n",
    "(8, 'Cincinnati Museum Center', 'Cincinnati', 'OH', '712110', 'Museums & Historical Sites', 95.50);\n",
    "\n",
    "-- Set the Current Date for the Demo: October 2025\n",
    "-- Policies 101 and 102 are expiring soon (next 30-60 days)\n",
    "\n",
    "INSERT INTO DIM_POLICY (POLICY_KEY, BUSINESS_KEY, POLICY_ID, POLICY_TYPE, EFFECTIVE_DATE, EXPIRATION_DATE, POLICY_STATUS, ANNUAL_PREMIUM_USD, PREMIUM_EARNED_USD)\n",
    "VALUES\n",
    "(101, 1, 'GL00101', 'General Liability', '2024-11-01', '2025-11-01', 'Active', 12000.00, 12000.00), -- Deeper Roots (Expiring Soon)\n",
    "(102, 2, 'GL00102', 'General Liability', '2024-10-25', '2025-10-25', 'Active', 18000.00, 18000.00), -- The Eagle OTR (Expiring Soon)\n",
    "(103, 3, 'PC00103', 'Commercial Property', '2025-01-01', '2026-01-01', 'Active', 55000.00, 45833.33),  -- Premium earned for 10 months\n",
    "(104, 4, 'WC00104', 'Workers Compensation', '2025-06-01', '2026-06-01', 'Active', 75000.00, 25000.00),  -- Premium earned for 4 months\n",
    "(105, 5, 'GL00105', 'General Liability', '2024-11-01', '2025-11-01', 'Active', 4500.00, 4500.00), -- Food Truck (Expiring Soon, but Low Risk)\n",
    "(106, 6, 'GL00106', 'General Liability', '2025-02-01', '2026-02-01', 'Active', 8500.00, 6375.00),  -- Premium earned for 9 months\n",
    "(107, 7, 'PC00107', 'Commercial Property', '2025-04-01', '2026-04-01', 'Active', 95000.00, 55416.67),  -- Premium earned for 7 months\n",
    "(108, 8, 'CY00108', 'Cyber Liability', '2025-01-01', '2026-01-01', 'Active', 15000.00, 12500.00);  -- Premium earned for 10 months\n",
    "\n",
    "-- Populate FACT_CLAIMS (Claims to create high loss ratio for local companies)\n",
    "INSERT INTO FACT_CLAIMS (POLICY_KEY, BUSINESS_KEY, CLAIM_ID, CLAIM_DATE, LOSS_TYPE, REPORTED_LAG_DAYS, INCURRED_AMOUNT_USD, IS_CATASTROPHE, CLAIM_STATUS)\n",
    "VALUES\n",
    "-- HIGH RISK: Deeper Roots Coffee (BUSINESS_KEY=1, POLICY_KEY=101) - LR = 1.50\n",
    "(101, 1, 'C10001', '2025-03-10', 'Slip & Fall', 1, 8000.00, FALSE, 'Closed'),\n",
    "(101, 1, 'C10002', '2025-05-05', 'Property Damage (burst pipe)', 3, 5500.00, FALSE, 'Closed'),\n",
    "(101, 1, 'C10003', '2025-08-25', 'Customer Injury (Hot beverage)', 1, 4500.00, FALSE, 'Open'),\n",
    "-- HIGH RISK: The Eagle OTR (BUSINESS_KEY=2, POLICY_KEY=102) - LR = 1.50\n",
    "(102, 2, 'C20001', '2025-01-05', 'Food Poisoning (Single incident)', 2, 10000.00, FALSE, 'Closed'),\n",
    "(102, 2, 'C20002', '2025-04-10', 'Liquor Liability', 10, 15000.00, FALSE, 'Open'),\n",
    "(102, 2, 'C20003', '2025-07-20', 'Theft (patio furniture)', 4, 2000.00, FALSE, 'Closed'),\n",
    "\n",
    "-- Other claims for context\n",
    "(103, 3, 'C30001', '2025-03-20', 'Minor Fire Damage', 7, 12000.00, FALSE, 'Closed'), -- Rhinegeist Brewery\n",
    "(104, 4, 'C40001', '2025-07-01', 'Workplace Minor Injury', 2, 5500.00, FALSE, 'Closed'), -- Cincinnati Zoo\n",
    "(105, 5, 'C50001', '2025-02-05', 'Vehicle Collision', 5, 2500.00, FALSE, 'Open'), -- Local Food Truck Corp.\n",
    "(106, 6, 'C60001', '2025-05-01', 'Equipment Failure', 3, 8000.00, FALSE, 'Open'), -- Queen City T-Shirt Printing\n",
    "(107, 7, 'C70001', '2025-08-03', 'Small Hail Damage', 2, 15000.00, FALSE, 'Open'), -- The Lytle Park Hotel\n",
    "(108, 8, 'C80001', '2025-09-10', 'System Ransomware', 1, 10000.00, FALSE, 'Open'); -- Cincinnati Museum Center"
   ]
  },
  {
   "cell_type": "markdown",
   "id": "050e33f5-725f-4125-8d9a-a4ac72083b7c",
   "metadata": {
    "collapsed": false,
    "name": "cell9"
   },
   "source": [
    "### 1.3 - Run some sample queries"
   ]
  },
  {
   "cell_type": "code",
   "execution_count": null,
   "id": "1b6e74f4-b3fd-4c57-a109-c45ead0db5ad",
   "metadata": {
    "language": "sql",
    "name": "cell6"
   },
   "outputs": [],
   "source": [
    "-- Amount of loss incurred from claims for Commerical Property policies\n",
    "SELECT policy_type, sum(incurred_amount_usd)\n",
    "FROM fact_claims c\n",
    "JOIN dim_policy p\n",
    "  on c.policy_key = p.policy_key\n",
    "WHERE policy_type = 'Commercial Property'\n",
    "GROUP BY policy_type\n",
    ";\n",
    "\n",
    "-- Run some other queries!"
   ]
  },
  {
   "cell_type": "markdown",
   "id": "327e5d60-987a-46e8-895d-950ea8e567f1",
   "metadata": {
    "collapsed": false,
    "name": "cell10"
   },
   "source": [
    "## Section 2: Cortex Analyst\n",
    "\n",
    "Cortex Analyst is a fully managed, AI-powered feature in Snowflake to answer natural language queries about your structured data. It relies on a Semantic model to provide metadata and context about your relational data to the LLM so that it can generate SQL based on the question at hand.\n",
    "\n",
    "The Semantic Layer can be defined as a YAML file or as a Semantic View - a new schema-level object in Snowflake.\n"
   ]
  },
  {
   "cell_type": "markdown",
   "id": "3a8e2820-fe5c-4e20-9fab-2fbfe946521c",
   "metadata": {
    "collapsed": false,
    "name": "cell11"
   },
   "source": [
    "### 2.1 - Semantic Views\n",
    "Semantic Views are schema-level objects in Snowflake that enable us to define business metrics, entities, and their relationships. This context will be leveraged by Cortex Analyst for generating SQL to answer natural language questions.\n",
    "\n",
    "Semantic Views are comprised of the following components:\n",
    "\n",
    "- **Tables**: logical tables that map to Snowflake tables or views\n",
    "- **Facts**: row-level attributes tied to a logical table that represent specific business events or transactions\n",
    "- **Dimensions**: categorical attributes tied to a logical table that gives meaning to metrics by grouping data into meaningful categories\n",
    "- **Metrics**: quantifiable measures of business performance calculated by aggregating facts or other columns from the same table\n",
    "**Named filters**: logic to filter a logical table based on some business rule\n",
    "**Relationships**: how logical tables are mapped to one another. This enables Cortex Analyst to join multiple logical tables together\n",
    "\n",
    "Semantic Views can be created through SQL (as seen below), but also through the Snowsight UI which is what we'll walk through together in this lab."
   ]
  },
  {
   "cell_type": "code",
   "execution_count": null,
   "id": "c695373e-ac74-4b62-a1f1-08206cbd5c81",
   "metadata": {
    "language": "sql",
    "name": "cell3"
   },
   "outputs": [],
   "source": [
    "-- -- Semantic View SQL - We will create this together via the UI\n",
    "-- create or replace semantic view CORTEX_LAB_DB.RISK_DATA.RISK_SEMANTIC_VIEW tables (\n",
    "--     DIM_BUSINESS primary key (BUSINESS_KEY) comment = 'This table stores information about businesses, including a unique identifier, name, location, industry classification (e.g., Restaurant & Hospitality), and financial data, to support business intelligence and analytics.',\n",
    "--     DIM_POLICY primary key (POLICY_KEY) comment = 'This table stores information about insurance policies. CRITICAL FIELDS: POLICY_STATUS (\"Active\"), EXPIRATION_DATE (to check for upcoming renewals), and PREMIUM_EARNED_USD (for Loss Ratio calculation).',\n",
    "--     FACT_CLAIMS primary key (CLAIM_ID) comment = 'This table stores information about insurance claims, including the policy and business keys, incurred amount, and claim status. CLAIM_ID is the unique identifier for a claim.'\n",
    "-- ) relationships (\n",
    "--     CLAIMS_TO_POLICIES as FACT_CLAIMS(POLICY_KEY) references DIM_POLICY(POLICY_KEY),\n",
    "--     CLAIMS_TO_BUSINESSES as FACT_CLAIMS(BUSINESS_KEY) references DIM_BUSINESS(BUSINESS_KEY)\n",
    "-- ) facts (\n",
    "--     DIM_BUSINESS.ASSET_VALUE_MILLIONS as ASSET_VALUE_MILLIONS comment = 'The total value of assets held by the business, expressed in millions of dollars.',\n",
    "--     DIM_BUSINESS.BUSINESS_KEY as BUSINESS_KEY comment = 'Unique identifier for a business entity.',\n",
    "--     DIM_POLICY.ANNUAL_PREMIUM_USD as ANNUAL_PREMIUM_USD comment = 'The total annual premium amount paid by policyholders in US dollars.',\n",
    "--     DIM_POLICY.PREMIUM_EARNED_USD as PREMIUM_EARNED_USD comment = 'The portion of the premium that has been recognized as revenue, critical for calculating accurate Loss Ratio (Incurred Claims / Earned Premium).',\n",
    "--     DIM_POLICY.POLICY_KEY as POLICY_KEY comment = 'Unique identifier for a policy in the insurance portfolio.',\n",
    "--     FACT_CLAIMS.BUSINESS_KEY as BUSINESS_KEY comment = 'Unique identifier for a business entity, links claims to business.',\n",
    "--     FACT_CLAIMS.CLAIM_ID as CLAIM_ID comment = 'Unique identifier for a claim submitted by a customer.',\n",
    "--     FACT_CLAIMS.INCURRED_AMOUNT_USD as INCURRED_AMOUNT_USD comment = 'The total amount of financial loss incurred for a claim, expressed in US dollars. Used as the numerator in the Loss Ratio calculation.',\n",
    "--     FACT_CLAIMS.POLICY_KEY as POLICY_KEY comment = 'Unique identifier for a policy, links claims to policy details.',\n",
    "--     FACT_CLAIMS.REPORTED_LAG_DAYS as REPORTED_LAG_DAYS comment = 'The number of days between the date an incident occurred and the date it was reported.'\n",
    "-- ) dimensions (\n",
    "--     DIM_BUSINESS.BUSINESS_CITY as BUSINESS_CITY comment = 'The city where the business is located. Example: Cincinnati.',\n",
    "--     DIM_BUSINESS.BUSINESS_NAME as BUSINESS_NAME comment = 'The name of the business or organization.',\n",
    "--     DIM_BUSINESS.BUSINESS_STATE as BUSINESS_STATE comment = 'The state in which the business is located.',\n",
    "--     DIM_BUSINESS.INDUSTRY_SEGMENT as INDUSTRY_SEGMENT comment = 'The industry segment in which the business operates, such as Restaurant & Hospitality, Beverage Manufacturing, or Arts, Entertainment.',\n",
    "--     DIM_BUSINESS.NAICS_CODE as NAICS_CODE comment = 'Industry Classification Code.',\n",
    "--     DIM_POLICY.EFFECTIVE_DATE as EFFECTIVE_DATE comment = 'The date when a policy becomes effective.',\n",
    "--     DIM_POLICY.EXPIRATION_DATE as EXPIRATION_DATE comment = 'Date on which the policy expires. Use this to find policies due for renewal soon (e.g., within 60 days of today).',\n",
    "--     DIM_POLICY.POLICY_ID as POLICY_ID comment = 'Unique identifier for a policy.',\n",
    "--     DIM_POLICY.POLICY_STATUS as POLICY_STATUS comment = 'The current status of the policy. Must be \"Active\" to be included in current risk reviews.',\n",
    "--     DIM_POLICY.POLICY_TYPE as POLICY_TYPE comment = 'Type of insurance policy held by the customer, such as General Liability, Commercial Property, or Workers Compensation.',\n",
    "--     FACT_CLAIMS.CLAIM_DATE as CLAIM_DATE comment = 'Date on which the claim was made.',\n",
    "--     FACT_CLAIMS.CLAIM_STATUS as CLAIM_STATUS comment = 'The current status of a claim, indicating whether it is Open or Closed.',\n",
    "--     FACT_CLAIMS.IS_CATASTROPHE as IS_CATASTROPHE comment = 'Indicates whether the claim is related to a catastrophic event.',\n",
    "--     FACT_CLAIMS.LOSS_TYPE as LOSS_TYPE comment = 'The type of loss or damage that occurred.'\n",
    "-- ) with extension (\n",
    "--     CA = '{\"tables\":[{\"name\":\"DIM_BUSINESS\",\"dimensions\":[{\"name\":\"BUSINESS_CITY\",\"sample_values\":[\"Cincinnati\"]},{\"name\":\"BUSINESS_NAME\",\"sample_values\":[\"Deeper Roots Coffee\",\"The Eagle OTR\",\"Rhinegeist Brewery\"]},{\"name\":\"BUSINESS_STATE\",\"sample_values\":[\"OH\"]},{\"name\":\"INDUSTRY_SEGMENT\",\"sample_values\":[\"Restaurant & Hospitality\",\"Beverage Manufacturing\",\"Arts, Entertainment\"]},{\"name\":\"NAICS_CODE\",\"sample_values\":[\"722515\",\"722511\",\"312120\"]}],\"facts\":[{\"name\":\"ASSET_VALUE_MILLIONS\",\"sample_values\":[\"2.50\",\"4.10\",\"45.00\"]},{\"name\":\"BUSINESS_KEY\",\"sample_values\":[\"1\",\"2\",\"3\"]}]},{\"name\":\"DIM_POLICY\",\"dimensions\":[{\"name\":\"POLICY_ID\",\"sample_values\":[\"GL00101\",\"GL00102\",\"PC00103\"]},{\"name\":\"POLICY_TYPE\",\"sample_values\":[\"General Liability\",\"Commercial Property\"]},{\"name\":\"POLICY_STATUS\",\"sample_values\":[\"Active\",\"Inactive\"]}],\"facts\":[{\"name\":\"ANNUAL_PREMIUM_USD\",\"sample_values\":[\"12000.00\",\"18000.00\",\"55000.00\"]},{\"name\":\"PREMIUM_EARNED_USD\",\"sample_values\":[\"12000.00\",\"18000.00\",\"45833.33\"]},{\"name\":\"POLICY_KEY\",\"sample_values\":[\"101\",\"102\",\"103\"]}],\"time_dimensions\":[{\"name\":\"EFFECTIVE_DATE\",\"sample_values\":[\"2024-11-01\",\"2024-10-25\",\"2025-01-01\"]},{\"name\":\"EXPIRATION_DATE\",\"sample_values\":[\"2025-11-01\",\"2025-10-25\",\"2026-01-01\"]}]},{\"name\":\"FACT_CLAIMS\",\"dimensions\":[{\"name\":\"CLAIM_STATUS\",\"sample_values\":[\"Open\",\"Closed\"]},{\"name\":\"IS_CATASTROPHE\",\"sample_values\":[\"FALSE\"]},{\"name\":\"LOSS_TYPE\",\"sample_values\":[\"Slip & Fall\",\"Liquor Liability\",\"Food Poisoning\"]}],\"facts\":[{\"name\":\"BUSINESS_KEY\",\"sample_values\":[\"1\",\"2\",\"3\"]},{\"name\":\"CLAIM_ID\",\"sample_values\":[\"C10003\",\"C20002\",\"C10001\"]},{\"name\":\"INCURRED_AMOUNT_USD\",\"sample_values\":[\"4500.00\",\"15000.00\",\"8000.00\"]},{\"name\":\"POLICY_KEY\",\"sample_values\":[\"101\",\"102\",\"103\"]},{\"name\":\"REPORTED_LAG_DAYS\",\"sample_values\":[\"1\",\"10\",\"3\"]}],\"time_dimensions\":[{\"name\":\"CLAIM_DATE\",\"sample_values\":[\"2025-08-25\",\"2025-04-10\",\"2025-03-10\"]}]}],\"relationships\":[{\"name\":\"CLAIMS_TO_POLICIES\"},{\"name\":\"CLAIMS_TO_BUSINESSES\"}]}'\n",
    "-- );\n"
   ]
  },
  {
   "cell_type": "code",
   "execution_count": null,
   "id": "b3f2f87b-0c7e-4205-8ee0-691a2368c558",
   "metadata": {
    "codeCollapsed": false,
    "language": "sql",
    "name": "cell12"
   },
   "outputs": [],
   "source": [
    "-- Verify Semantic View\n",
    "SHOW SEMANTIC VIEWS;"
   ]
  },
  {
   "cell_type": "markdown",
   "id": "8666928d-85ad-43b3-bf12-c381443910bb",
   "metadata": {
    "collapsed": false,
    "name": "cell13"
   },
   "source": [
    "### 2.2 - Creating our first Cortex Agent\n",
    "Now that we have a Semantic View created for use with Cortex Analyst, we can create a Cortex Agent that will be able to answer natural language questions about our data.\n",
    "\n",
    "Cortex Agents are the brains of this demo. Agents will orchestrate both structured and unstructured data to deliver insights. They plan tasks, use tools to execute these tasks, and generate responses. Agents can be configured to use Cortex Analyst (structured data), Cortex Search (unstructured data), and custom tools to generate answers.\n",
    "\n"
   ]
  },
  {
   "cell_type": "code",
   "execution_count": null,
   "id": "4240267c-a6ca-4c7a-a596-f403e8fce8ef",
   "metadata": {
    "language": "sql",
    "name": "cell14"
   },
   "outputs": [],
   "source": [
    "CREATE OR REPLACE AGENT SNOWFLAKE_INTELLIGENCE.AGENTS.Company_Chatbot_Agent_Structured\n",
    "WITH PROFILE='{\"display_name\": \"Risk Analysis Agent\"}'\n",
    "COMMENT=$$ This is an agent that can answer questions about our insurance data including policies, businesses, and claims. $$\n",
    "FROM SPECIFICATION $$\n",
    "{\n",
    "  \"models\": {\n",
    "    \"orchestration\": \"\"\n",
    "  },\n",
    "  \"instructions\": {\n",
    "    \"response\": \"You are a data analyst who has access to insurance policies, insured businesses, and claims. If user does not specify a date range assume it for year 2025. Leverage data from all domains to analyse & answer user questions. Provide visualizations if possible. Trendlines should default to linecharts, Categories default to Barchart.\",\n",
    "    \"orchestration\": \"Use cortex analyst for any questions regarding the policies, businesses, and claims data.\\n\\n\\n\",\n",
    "    \"sample_questions\": [\n",
    "      {\n",
    "        \"question\": \"What has been our incurred loss by category over the last 12 months?\"\n",
    "      }\n",
    "    ]\n",
    "  },\n",
    "  \"tools\": [\n",
    "    {\n",
    "      \"tool_spec\": {\n",
    "        \"type\": \"cortex_analyst_text_to_sql\",\n",
    "        \"name\": \"Query Insurance Datamart\",\n",
    "        \"description\": \"Allows users to query finance data for a company in terms of revenue & expenses.\"\n",
    "      }\n",
    "    }\n",
    "  ],\n",
    "  \"tool_resources\": {\n",
    "    \"Query Insurance Datamart\": {\n",
    "      \"semantic_view\": \"CORTEX_LAB_DB.RISK_DATA.RISK_SEMANTIC_VIEW\"\n",
    "    }\n",
    "  }\n",
    "}\n",
    "$$;"
   ]
  },
  {
   "cell_type": "markdown",
   "id": "f94ccb0f-d6cb-47ae-b9ad-41b3c80e6de9",
   "metadata": {
    "collapsed": false,
    "name": "cell17"
   },
   "source": [
    "### 2.3 Test Analyst Agent v1!\n",
    "\n",
    "Open Snowflake Intelligence by clicking on 'AI & ML' on the left navbar and then choosing 'Snowflake Intelligence'.\n",
    "\n",
    "Once there, ask away about our structured data! Here are some sample questions as thought starters:\n",
    "\n",
    "- What was our incurred loss amount by policy type over the last 12 months?\n",
    "- How many claims have been made over the last 3 months? \n"
   ]
  },
  {
   "cell_type": "markdown",
   "id": "038159ca-458e-4957-9d9c-0f7e1470553f",
   "metadata": {
    "collapsed": false,
    "name": "cell15"
   },
   "source": [
    "## Section 3: Custom Tools\n",
    "\n",
    "In addition to Cortex Analyst and Cortex Search, we can also equip our agent with custom tools for execution. In this section, we'll create additional tools for sending emails and performing web search."
   ]
  },
  {
   "cell_type": "markdown",
   "id": "7bebebff-eec8-421f-bc0f-b266688b0115",
   "metadata": {
    "collapsed": false,
    "name": "cell20"
   },
   "source": [
    "### 3.1 Email Tool\n",
    "Below, we define a stored procedure for sending emails from Snowflake Intelligence. This will enable us to create emails on interesting insights that are derived from Snowflake Intelligence, all without ever leaving the platform."
   ]
  },
  {
   "cell_type": "code",
   "execution_count": null,
   "id": "79d8760a-b1bb-4b7e-b177-d1a400740229",
   "metadata": {
    "language": "sql",
    "name": "cell19"
   },
   "outputs": [],
   "source": [
    "CREATE OR REPLACE PROCEDURE send_mail(recipient STRING, subject STRING, text STRING)\n",
    "RETURNS STRING\n",
    "LANGUAGE PYTHON\n",
    "RUNTIME_VERSION = '3.11'\n",
    "PACKAGES = ('snowflake-snowpark-python')\n",
    "HANDLER = 'send_mail'\n",
    "AS\n",
    "$$\n",
    "def send_mail(session, recipient, subject, text):\n",
    "    # Use SQL execution, not session.call\n",
    "    session.sql(f\"\"\"\n",
    "        CALL SYSTEM$SEND_EMAIL(\n",
    "            'ai_email_int',\n",
    "            '{recipient}',\n",
    "            '{subject}',\n",
    "            '{text}',\n",
    "            'text/html'\n",
    "        )\n",
    "    \"\"\").collect()\n",
    "\n",
    "    return f'Email was sent to {recipient} with subject: \"{subject}\".'\n",
    "$$;\n"
   ]
  },
  {
   "cell_type": "markdown",
   "id": "d5bd4830-abdd-45bd-b8d7-479409ee47de",
   "metadata": {
    "collapsed": false,
    "name": "cell21"
   },
   "source": [
    "### 3.2 Web Search Tool\n",
    "We can also create functions using python and make those available as tools to the agent. The code below creates a simple web search function that can be used by our agent for getting additional information from the web."
   ]
  },
  {
   "cell_type": "code",
   "execution_count": null,
   "id": "cf4b04c0-0a4d-4a93-a8bd-1ec93adb0f24",
   "metadata": {
    "language": "sql",
    "name": "cell35"
   },
   "outputs": [],
   "source": [
    "CREATE OR REPLACE FUNCTION Web_search(search_query STRING)\n",
    "RETURNS STRING\n",
    "LANGUAGE PYTHON\n",
    "RUNTIME_VERSION = 3.11\n",
    "ARTIFACT_REPOSITORY = snowflake.snowpark.pypi_shared_repository\n",
    "HANDLER = 'web_search'\n",
    "EXTERNAL_ACCESS_INTEGRATIONS = (Snowflake_intelligence_ExternalAccess_Integration)\n",
    "PACKAGES = ('tavily-python')\n",
    "AS\n",
    "$$\n",
    "from tavily import TavilyClient\n",
    "\n",
    "def web_search(search_query: str) -> str:\n",
    "    TAVILY_API_KEY = \"\"\n",
    "    tavily_client = TavilyClient(api_key=TAVILY_API_KEY)\n",
    "    response = tavily_client.search(query=search_query)\n",
    "\n",
    "    # Return the first snippet (if available)\n",
    "    for result in response.get('results', []):\n",
    "        return result.get('content', '')[:1000]\n",
    "\n",
    "    return \"No results found.\"\n",
    "$$;\n"
   ]
  },
  {
   "cell_type": "markdown",
   "id": "3519ba9d-c540-4e72-b0e3-512a5e553173",
   "metadata": {
    "collapsed": false,
    "name": "cell22"
   },
   "source": [
    "### 3.3 Update the Agent with tools\n",
    "Now that we have the tools defined, we can recreate our agent to give it the ability to call the tools."
   ]
  },
  {
   "cell_type": "code",
   "execution_count": null,
   "id": "89442275-eaa2-41c5-bd2d-0ee1fd6b116c",
   "metadata": {
    "language": "sql",
    "name": "cell36"
   },
   "outputs": [],
   "source": [
    "-- Tavily version\n",
    "CREATE OR REPLACE AGENT SNOWFLAKE_INTELLIGENCE.AGENTS.Company_Chatbot_Agent_Tools\n",
    "WITH PROFILE='{\"display_name\": \"2-Risk Chatbot - Tools\"}'\n",
    "COMMENT=$$ This is an agent that can answer questions about our insurance data including policies, businesses, and claims. $$\n",
    "FROM SPECIFICATION $$\n",
    "{\n",
    "  \"models\": {\n",
    "    \"orchestration\": \"\"\n",
    "  },\n",
    "  \"instructions\": {\n",
    "    \"response\": \"You are a data analyst who has access to insurance policies, insured businesses, and claims. If user does not specify a date range assume it for year 2025. Leverage data from all domains to analyze & answer user questions. Provide visualizations if possible. Trendlines should default to linecharts, Categories default to Barchart. You have access to a web_search tool which can search all of the web to find information, such as yelp reviews.\",\n",
    "    \"orchestration\": \"Use cortex analyst for any questions regarding the policies, businesses, and claims data.\\n\\n\\n\",\n",
    "    \"sample_questions\": [\n",
    "      {\n",
    "        \"question\": \"What was our incurred loss amount by policy type over the last 12 months?\"\n",
    "      }\n",
    "    ]\n",
    "  },\n",
    "  \"tools\": [\n",
    "    {\n",
    "      \"tool_spec\": {\n",
    "        \"type\": \"cortex_analyst_text_to_sql\",\n",
    "        \"name\": \"Query Insurance Datamart\",\n",
    "        \"description\": \"Allows users to query finance data for a company in terms of revenue & expenses.\"\n",
    "      }\n",
    "    },\n",
    "    {\n",
    "      \"tool_spec\": {\n",
    "        \"type\": \"generic\",\n",
    "        \"name\": \"Web_search\",\n",
    "        \"description\": \"This tool should be used if the user wants to search the web for additional information about the business they're looking to evaluate.\",\n",
    "        \"input_schema\": {\n",
    "          \"type\": \"object\",\n",
    "          \"properties\": {\n",
    "            \"search_query\": {\n",
    "              \"description\": \"The user provided search query.\",\n",
    "              \"type\": \"string\"\n",
    "            }\n",
    "          },\n",
    "          \"required\": [\n",
    "            \"search_query\"\n",
    "          ]\n",
    "        }\n",
    "      }\n",
    "    },\n",
    "    {\n",
    "      \"tool_spec\": {\n",
    "        \"type\": \"generic\",\n",
    "        \"name\": \"Send_Emails\",\n",
    "        \"description\": \"This tool is used to send emails to a email recipient. It can take an email, subject & content as input to send the email. Always use HTML formatted content for the emails.\",\n",
    "        \"input_schema\": {\n",
    "          \"type\": \"object\",\n",
    "          \"properties\": {\n",
    "            \"recipient\": {\n",
    "              \"description\": \"recipient of email\",\n",
    "              \"type\": \"string\"\n",
    "            },\n",
    "            \"subject\": {\n",
    "              \"description\": \"subject of email\",\n",
    "              \"type\": \"string\"\n",
    "            },\n",
    "            \"text\": {\n",
    "              \"description\": \"content of email\",\n",
    "              \"type\": \"string\"\n",
    "            }\n",
    "          },\n",
    "          \"required\": [\n",
    "            \"text\",\n",
    "            \"recipient\",\n",
    "            \"subject\"\n",
    "          ]\n",
    "        }\n",
    "      }\n",
    "    }\n",
    "  ],\n",
    "  \"tool_resources\": {\n",
    "    \"Query Insurance Datamart\": {\n",
    "      \"semantic_view\": \"CORTEX_LAB_DB.RISK_DATA.RISK_SEMANTIC_VIEW\"\n",
    "    },\n",
    "    \"Send_Emails\": {\n",
    "      \"execution_environment\": {\n",
    "        \"query_timeout\": 0,\n",
    "        \"type\": \"warehouse\",\n",
    "        \"warehouse\": \"SNOW_INTELLIGENCE_DEMO_WH\"\n",
    "      },\n",
    "      \"identifier\": \"CORTEX_LAB_DB.RISK_DATA.SEND_MAIL\",\n",
    "      \"name\": \"SEND_MAIL(VARCHAR, VARCHAR, VARCHAR)\",\n",
    "      \"type\": \"procedure\"\n",
    "    },\n",
    "    \"Web_search\": {\n",
    "      \"execution_environment\": {\n",
    "        \"query_timeout\": 0,\n",
    "        \"type\": \"warehouse\",\n",
    "        \"warehouse\": \"SNOW_INTELLIGENCE_DEMO_WH\"\n",
    "      },\n",
    "      \"identifier\": \"CORTEX_LAB_DB.RISK_DATA.WEB_SEARCH\",\n",
    "      \"name\": \"WEB_SEARCH(VARCHAR)\",\n",
    "      \"type\": \"function\"\n",
    "    }\n",
    "  }\n",
    "}\n",
    "$$;"
   ]
  },
  {
   "cell_type": "markdown",
   "id": "5b13c32b-613f-47a2-a81c-c00e92107d75",
   "metadata": {
    "collapsed": false,
    "name": "cell23"
   },
   "source": [
    "### 3.4 Test the updated agent\n",
    "\n",
    "One sample flow (ask all questions in one conversation):\n",
    "- Show me all active General Liability policies for our clients in Cincinnati's Restaurant & Hospitality sector with a Loss Ratio above 1.4 that are due for renewal soon. Calculate the Loss Ratio.\n",
    "- Start with The Eagle OTR. Use the web search tool to find any recent news or regulatory actions related to health code violations or labor issues in Cincinnati.\n",
    "- Combine the internal policy data (loss ratio) with the external web search findings and provide a final renewal recommendation for The Eagle OTR. Justify your score."
   ]
  },
  {
   "cell_type": "markdown",
   "id": "849ec522-1ebf-4f6e-b2ae-e1fe07164ee7",
   "metadata": {
    "collapsed": false,
    "name": "cell16"
   },
   "source": [
    "## Section 4: AI Observability\n",
    "\n",
    "After asking a few questions to our agent, we can explore Snowflake's built in AI Observability tooling to understand what tools were invoked to accomplish the given tasks.\n",
    "\n",
    "Start by clicking on 'AI & ML' on the left hand havbar, and then opening 'Cortex Agents' in a new tab. Once on the Cortex Agents screen, choose the 'COMPANY_CHATBOT_AGENT_TOOLS' agent. Here, you can see all of the configuration for our agent, including which tools it has available.\n",
    "\n",
    "Next, click on 'Monitoring' and then choose one of your conversations. This is where we can see all the detail going on behind the scenes. Find a task that used Cortex Analyst - there we can see the exact SQL that was generated and executed to answer the given question. On the 'Web search' tasks, we can see the given prompt and the web search results that was fed back to the model."
   ]
  },
  {
   "cell_type": "markdown",
   "id": "b9be92de-7368-4b26-a342-8606c1247e14",
   "metadata": {
    "collapsed": false,
    "name": "cell24"
   },
   "source": [
    "Additional potential features:\n",
    "- Is document upload via Intelligence possible? Would be cool to upload a doc, parse it, fetch relevant info from web + and related data in our tables.\n",
    "- Cortex search for docs\n",
    "- Calling an ML model via a tool"
   ]
  },
  {
   "cell_type": "markdown",
   "id": "7f2e2b05-a556-4d6f-8ff2-8857e4e9e920",
   "metadata": {
    "collapsed": false,
    "name": "cell25"
   },
   "source": [
    "## Evals"
   ]
  }
 ],
 "metadata": {
  "kernelspec": {
   "display_name": "Streamlit Notebook",
   "name": "streamlit"
  },
  "lastEditStatus": {
   "authorEmail": "",
   "authorId": "3363306895615",
   "authorName": "USER",
   "lastEditTime": 1761142400425,
   "notebookId": "zpen7mgoii5ptfjs7akb",
   "sessionId": "39c00c1c-781c-4b10-8af2-9c0908a5090c"
  }
 },
 "nbformat": 4,
 "nbformat_minor": 5
}
